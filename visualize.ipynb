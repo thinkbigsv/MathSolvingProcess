{
 "cells": [
  {
   "cell_type": "code",
   "execution_count": 2,
   "metadata": {},
   "outputs": [],
   "source": [
    "import numpy as np\n",
    "import pandas as pd\n",
    "import matplotlib.pyplot as plt\n",
    "import squarify\n",
    "\n",
    "import plotly\n",
    "plotly.tools.set_credentials_file(username='slhopy', api_key='lY5b6WqEHD7QKamOtxLN')\n",
    "import plotly.plotly as py\n",
    "import plotly.graph_objs as go\n",
    "\n",
    "from domaintree import DomainTree"
   ]
  },
  {
   "cell_type": "code",
   "execution_count": 3,
   "metadata": {},
   "outputs": [],
   "source": [
    "domain_df = pd.read_csv('domain.csv')\n",
    "domain_df.fillna(method='ffill', inplace=True)\n",
    "domainTree = DomainTree(domain_df)\n",
    "del domainTree.tree.child[6]\n",
    "del domainTree.tree.child[5]\n",
    "del domainTree.tree.child[4]\n",
    "del domainTree.tree.child[2]\n",
    "del domainTree.tree.child[1]"
   ]
  },
  {
   "cell_type": "code",
   "execution_count": 4,
   "metadata": {},
   "outputs": [
    {
     "data": {
      "text/plain": [
       "['다항식', '도형의 방정식']"
      ]
     },
     "execution_count": 4,
     "metadata": {},
     "output_type": "execute_result"
    }
   ],
   "source": [
    "domain1_names =[x.name for x in domainTree.tree.child]\n",
    "domain1_names"
   ]
  },
  {
   "cell_type": "code",
   "execution_count": 5,
   "metadata": {},
   "outputs": [
    {
     "data": {
      "text/plain": [
       "['다항식의 연산',\n",
       " '인수분해',\n",
       " '항등식과 미정계수',\n",
       " '나머지 정리',\n",
       " '평면좌표',\n",
       " '직선의 방정식',\n",
       " '원의 방정식',\n",
       " '도형의 이동']"
      ]
     },
     "execution_count": 5,
     "metadata": {},
     "output_type": "execute_result"
    }
   ],
   "source": [
    "domain2_names = []\n",
    "for domain1 in domainTree.tree.child:\n",
    "    for domain2 in domain1.child:\n",
    "        domain2_names.append(domain2.name)\n",
    "domain2_names"
   ]
  },
  {
   "cell_type": "code",
   "execution_count": 6,
   "metadata": {},
   "outputs": [
    {
     "data": {
      "text/plain": [
       "['다항식의 정리',\n",
       " '다항식의 덧셈, 뺄셈',\n",
       " '다항식의 곱셈, 나눗셈',\n",
       " '곱셈공식',\n",
       " '인수분해의 기본 공식',\n",
       " '기본 공식의 활용',\n",
       " '다항식의 최대공약수와 최소공배수',\n",
       " '항등식의 성질과 미정계수법',\n",
       " '다항식의 나눗셈과 항등식',\n",
       " '나머지 정리',\n",
       " '인수정리와 고차식의 인수분해',\n",
       " '두 점 사이의 거리',\n",
       " '선분의 내분점과 외분점',\n",
       " '좌표와 자취',\n",
       " '방정식의 그래프',\n",
       " '두 직선의 위치 관계',\n",
       " '직선의 방정식',\n",
       " '정점을 지나는 직선',\n",
       " '점과 직선 사이의 거리',\n",
       " '자취 문제(직선)',\n",
       " '원의 방정식',\n",
       " '원과 직선의 위치 관계',\n",
       " '두 원의 위치 관계',\n",
       " '자취 문제(원)',\n",
       " '평행이동',\n",
       " '대칭이동']"
      ]
     },
     "execution_count": 6,
     "metadata": {},
     "output_type": "execute_result"
    }
   ],
   "source": [
    "domain3_names = []\n",
    "for domain1 in domainTree.tree.child:\n",
    "    for domain2 in domain1.child:\n",
    "        for domain3 in domain2.child:\n",
    "            domain3_names.append(domain3.name)\n",
    "domain3_names"
   ]
  },
  {
   "cell_type": "code",
   "execution_count": 7,
   "metadata": {},
   "outputs": [],
   "source": [
    "n_domain = []\n",
    "for d1 in domainTree.tree.child:\n",
    "    domain1 = []\n",
    "    for d2 in d1.child:\n",
    "        domain2 = []\n",
    "        for d3 in d2.child:\n",
    "            domain2.append([1])\n",
    "        domain1.append(domain2)\n",
    "    n_domain.append(domain1)"
   ]
  },
  {
   "cell_type": "code",
   "execution_count": 8,
   "metadata": {},
   "outputs": [
    {
     "data": {
      "text/plain": [
       "[[4, 3, 2, 2], [3, 6, 4, 2]]"
      ]
     },
     "execution_count": 8,
     "metadata": {},
     "output_type": "execute_result"
    }
   ],
   "source": [
    "rect2_heights = []\n",
    "for d1 in n_domain:\n",
    "    rect2_heights.append([len(x) for x in d1])\n",
    "rect2_heights"
   ]
  },
  {
   "cell_type": "code",
   "execution_count": 9,
   "metadata": {},
   "outputs": [
    {
     "data": {
      "text/plain": [
       "[11, 15]"
      ]
     },
     "execution_count": 9,
     "metadata": {},
     "output_type": "execute_result"
    }
   ],
   "source": [
    "rect1_heights = [sum(x) for x in rect2_heights]\n",
    "rect1_heights"
   ]
  },
  {
   "cell_type": "code",
   "execution_count": 69,
   "metadata": {},
   "outputs": [],
   "source": [
    "def make_rects(rect1_heights, rect2_heights):\n",
    "    dx = 30\n",
    "    \n",
    "    rect1s = []\n",
    "    x = 0.\n",
    "    y = 0.\n",
    "    for h in rect1_heights:\n",
    "        rect1s.append({'x':x, 'y':y, 'dx':dx, 'dy':h})\n",
    "        y += h\n",
    "    \n",
    "    def flatten(x):\n",
    "        import collections\n",
    "        if isinstance(x, collections.Iterable):\n",
    "            return [a for i in x for a in flatten(i)]\n",
    "        else:\n",
    "            return [x]\n",
    "        \n",
    "    rect2_heights = flatten(rect2_heights)\n",
    "    rect2s = []\n",
    "    x = dx\n",
    "    y = 0.\n",
    "    for h in rect2_heights:\n",
    "        rect2s.append({'x':x, 'y':y, 'dx':dx, 'dy':h})\n",
    "        y += h\n",
    "    \n",
    "    rect3s = []\n",
    "    x = dx * 2\n",
    "    y = 0.\n",
    "    for _ in range(sum(rect2_heights)):\n",
    "        rect3s.append({'x':x, 'y':y, 'dx':dx, 'dy':1})\n",
    "        y += 1\n",
    "    \n",
    "    return rect1s + rect2s + rect3s"
   ]
  },
  {
   "cell_type": "code",
   "execution_count": 70,
   "metadata": {},
   "outputs": [],
   "source": [
    "rects = make_rects(rect1_heights, rect2_heights)"
   ]
  },
  {
   "cell_type": "code",
   "execution_count": 71,
   "metadata": {},
   "outputs": [],
   "source": [
    "import matplotlib\n",
    "from matplotlib import cm\n",
    "\n",
    "magma_cmap = matplotlib.cm.get_cmap('RdBu')\n",
    "viridis_cmap = matplotlib.cm.get_cmap('viridis')\n",
    "\n",
    "viridis_rgb = []\n",
    "magma_rgb = []\n",
    "norm = matplotlib.colors.Normalize(vmin=0, vmax=255)\n",
    "\n",
    "def matplotlib_to_plotly(cmap, pl_entries):\n",
    "    h = 1.0/(pl_entries-1)\n",
    "    pl_colorscale = []\n",
    "\n",
    "    for k in range(pl_entries):\n",
    "        C = list(map(np.uint8, np.array(cmap(k*h)[:3])*255))\n",
    "        pl_colorscale.append([k*h, 'rgb'+str((C[0], C[1], C[2]))])\n",
    "\n",
    "    return pl_colorscale\n",
    "\n",
    "magma = matplotlib_to_plotly(magma_cmap, 14)\n",
    "viridis = matplotlib_to_plotly(viridis_cmap, 10)\n",
    "def make_colors(dt):\n",
    "\n",
    "    for d1 in dt.tree.child:\n",
    "        d1.color = 0\n",
    "        for d2 in d1.child:\n",
    "            d2.color = 0\n",
    "            for d3 in d2.child:\n",
    "                d3.color = np.random.randint(2, 12)\n",
    "                d2.color += d3.color\n",
    "            d2.color //= len(d2.child)\n",
    "            d1.color += d2.color\n",
    "        d1.color //= len(d1.child)\n",
    "    \n",
    "    d1_colors = [x.color for x in dt.tree.child]\n",
    "    d2_colors = []\n",
    "    for d1 in dt.tree.child:\n",
    "        for d2 in d1.child:\n",
    "            d2_colors.append(d2.color)\n",
    "    d3_colors = []\n",
    "    for d1 in dt.tree.child:\n",
    "        for d2 in d1.child:\n",
    "            for d3 in d2.child:\n",
    "                d3_colors.append(d3.color)\n",
    "    colors = d1_colors + d2_colors + d3_colors\n",
    "    \n",
    "    for i in range(len(colors)):\n",
    "        colors[i] = magma[colors[i]][1]\n",
    "    return colors\n",
    "\n",
    "colors = make_colors(domainTree)"
   ]
  },
  {
   "cell_type": "code",
   "execution_count": null,
   "metadata": {},
   "outputs": [],
   "source": []
  },
  {
   "cell_type": "code",
   "execution_count": 72,
   "metadata": {
    "scrolled": false
   },
   "outputs": [
    {
     "data": {
      "text/html": [
       "<iframe id=\"igraph\" scrolling=\"no\" style=\"border:none;\" seamless=\"seamless\" src=\"https://plot.ly/~slhopy/2.embed\" height=\"1000px\" width=\"900px\"></iframe>"
      ],
      "text/plain": [
       "<plotly.tools.PlotlyDisplay object>"
      ]
     },
     "execution_count": 72,
     "metadata": {},
     "output_type": "execute_result"
    }
   ],
   "source": [
    "x = 0.\n",
    "y = 0.\n",
    "width = 200.\n",
    "height = 200.\n",
    "\n",
    "domain_names = domain1_names + domain2_names + domain3_names\n",
    "\n",
    "shapes = []\n",
    "annotations = []\n",
    "counter = 0\n",
    "\n",
    "for r in rects:\n",
    "    shapes.append( \n",
    "        dict(\n",
    "            type = 'rect', \n",
    "            x0 = r['x'], \n",
    "            y0 = r['y'], \n",
    "            x1 = r['x']+r['dx'], \n",
    "            y1 = r['y']+r['dy'],\n",
    "            line = dict( width = 2 ),\n",
    "            fillcolor = colors[counter]\n",
    "        ) \n",
    "    )\n",
    "    annotations.append(\n",
    "        dict(\n",
    "            x = r['x']+(r['dx']/2),\n",
    "            y = r['y']+(r['dy']/2),\n",
    "            text = domain_names[counter],\n",
    "            showarrow = False\n",
    "        )\n",
    "    )\n",
    "    counter = counter + 1\n",
    "layout = dict(\n",
    "    height=1000,\n",
    "    width=900,\n",
    "    xaxis=dict(showgrid=False,zeroline=False, visible=False),\n",
    "    yaxis=dict(showgrid=False,zeroline=False, autorange='reversed', visible=False),\n",
    "    shapes=shapes,\n",
    "    annotations=annotations,\n",
    "    hovermode='closest'\n",
    ")\n",
    "# With hovertext\n",
    "# figure = dict(data=[trace0], layout=layout)\n",
    "\n",
    "# Without hovertext\n",
    "figure = dict(data=[go.Scatter()], layout=layout)\n",
    "py.iplot(figure, filename='domain_tree_map')"
   ]
  },
  {
   "cell_type": "code",
   "execution_count": 73,
   "metadata": {},
   "outputs": [],
   "source": [
    "def make_label_rects():\n",
    "    dx = 10\n",
    "    dy = 5\n",
    "    rects = []\n",
    "    x = 0.\n",
    "    y = 0.\n",
    "\n",
    "    for i in range(10):\n",
    "        rects.append({'x':x, 'y':y, 'dx':dx, 'dy':dy})\n",
    "        x += 10\n",
    "    return rects\n",
    "rects = make_label_rects()"
   ]
  },
  {
   "cell_type": "code",
   "execution_count": 77,
   "metadata": {},
   "outputs": [
    {
     "data": {
      "text/html": [
       "<iframe id=\"igraph\" scrolling=\"no\" style=\"border:none;\" seamless=\"seamless\" src=\"https://plot.ly/~slhopy/3.embed\" height=\"220px\" width=\"800px\"></iframe>"
      ],
      "text/plain": [
       "<plotly.tools.PlotlyDisplay object>"
      ]
     },
     "execution_count": 77,
     "metadata": {},
     "output_type": "execute_result"
    }
   ],
   "source": [
    "x = 0.\n",
    "y = 0.\n",
    "width = 200.\n",
    "height = 200.\n",
    "\n",
    "colors = np.array(magma)[2:12, 1]\n",
    "\n",
    "shapes = []\n",
    "annotations = []\n",
    "counter = 0\n",
    "\n",
    "\n",
    "\n",
    "for r in rects:\n",
    "    shapes.append( \n",
    "        dict(\n",
    "            type = 'rect', \n",
    "            x0 = r['x'], \n",
    "            y0 = r['y'], \n",
    "            x1 = r['x']+r['dx'], \n",
    "            y1 = r['y']+r['dy'],\n",
    "            line = dict( width = 2 ),\n",
    "            fillcolor = colors[counter]\n",
    "        ) \n",
    "    )\n",
    "    annotations.append(\n",
    "        dict(\n",
    "            x = r['x']+(r['dx']/2),\n",
    "            y = r['y']+(r['dy']/2),\n",
    "            text = '',\n",
    "            showarrow = False\n",
    "        )\n",
    "    )\n",
    "    counter = counter + 1\n",
    "layout = dict(\n",
    "    height=220,\n",
    "    width=800,\n",
    "    title='correct rate heat map',\n",
    "    xaxis=dict(showgrid=False,zeroline=False, dtick=10, ticksuffix='%'),\n",
    "    yaxis=dict(showgrid=False,zeroline=False, autorange='reversed', visible=False),\n",
    "    shapes=shapes,\n",
    "    annotations=annotations,\n",
    "    hovermode='closest'\n",
    ")\n",
    "# With hovertext\n",
    "# figure = dict(data=[trace0], layout=layout)\n",
    "\n",
    "# Without hovertext\n",
    "figure2 = dict(data=[go.Scatter()], layout=layout)\n",
    "py.iplot(figure2, filename='domain_tree_map_label')"
   ]
  },
  {
   "cell_type": "code",
   "execution_count": 78,
   "metadata": {},
   "outputs": [
    {
     "data": {
      "text/html": [
       "<iframe id=\"igraph\" scrolling=\"no\" style=\"border:none;\" seamless=\"seamless\" src=\"https://plot.ly/~slhopy/2.embed\" height=\"1000px\" width=\"900px\"></iframe>"
      ],
      "text/plain": [
       "<plotly.tools.PlotlyDisplay object>"
      ]
     },
     "execution_count": 78,
     "metadata": {},
     "output_type": "execute_result"
    }
   ],
   "source": [
    "py.iplot(figure, filename='domain_tree_map')"
   ]
  },
  {
   "cell_type": "code",
   "execution_count": null,
   "metadata": {},
   "outputs": [],
   "source": []
  }
 ],
 "metadata": {
  "kernelspec": {
   "display_name": "Python 3",
   "language": "python",
   "name": "python3"
  },
  "language_info": {
   "codemirror_mode": {
    "name": "ipython",
    "version": 3
   },
   "file_extension": ".py",
   "mimetype": "text/x-python",
   "name": "python",
   "nbconvert_exporter": "python",
   "pygments_lexer": "ipython3",
   "version": "3.6.6"
  }
 },
 "nbformat": 4,
 "nbformat_minor": 2
}
